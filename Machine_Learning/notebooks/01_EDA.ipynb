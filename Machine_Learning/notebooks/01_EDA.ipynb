{
 "cells": [
  {
   "cell_type": "code",
   "execution_count": null,
   "id": "58463a90",
   "metadata": {},
   "outputs": [],
   "source": [
    "\n",
    "# Import necessary libraries\n",
    "import pandas as pd\n",
    "import numpy as np\n",
    "import matplotlib.pyplot as plt\n",
    "import seaborn as sns\n"
   ]
  },
  {
   "cell_type": "code",
   "execution_count": null,
   "id": "7c43ea3a",
   "metadata": {},
   "outputs": [],
   "source": [
    "\n",
    "# Set visualization style\n",
    "sns.set(style=\"whitegrid\")\n",
    "plt.rcParams['figure.figsize'] = (10,6)\n",
    "\n"
   ]
  },
  {
   "cell_type": "code",
   "execution_count": null,
   "id": "dd9c1a75",
   "metadata": {},
   "outputs": [],
   "source": [
    "\n",
    "# Load the cleaned dataset\n",
    "data_path = \"../data/raw/HR-Employee-Attrition_cleaned.csv\"\n",
    "df = pd.read_csv(data_path)\n"
   ]
  },
  {
   "cell_type": "code",
   "execution_count": null,
   "id": "f2de5872",
   "metadata": {},
   "outputs": [],
   "source": [
    "\n",
    "# Display first few rows\n",
    "df.head()\n"
   ]
  },
  {
   "cell_type": "code",
   "execution_count": null,
   "id": "4b7cd4bc",
   "metadata": {},
   "outputs": [],
   "source": [
    "\n",
    "# Basic info about dataset\n",
    "df.info()\n"
   ]
  },
  {
   "cell_type": "code",
   "execution_count": null,
   "id": "e4342843",
   "metadata": {},
   "outputs": [],
   "source": [
    "\n",
    "# Summary statistics for numerical columns\n",
    "df.describe()\n"
   ]
  },
  {
   "cell_type": "code",
   "execution_count": null,
   "id": "e7c38248",
   "metadata": {},
   "outputs": [],
   "source": [
    "\n",
    "# Check missing values\n",
    "df.isnull().sum()\n"
   ]
  },
  {
   "cell_type": "code",
   "execution_count": null,
   "id": "07cfdf68",
   "metadata": {},
   "outputs": [],
   "source": [
    "\n",
    "# List of categorical and numerical columns\n",
    "categorical_cols = df.select_dtypes(include=['object']).columns.tolist()\n",
    "numerical_cols = df.select_dtypes(include=['int64','float64']).columns.tolist()\n",
    "\n",
    "print(\"Categorical columns:\", categorical_cols)\n",
    "print(\"Numerical columns:\", numerical_cols)\n"
   ]
  },
  {
   "cell_type": "code",
   "execution_count": null,
   "id": "6062f00f",
   "metadata": {},
   "outputs": [],
   "source": [
    "\n",
    "# Distribution of target variable: Attrition\n",
    "sns.countplot(x='Attrition', data=df)\n",
    "plt.title(\"Attrition Distribution\")\n",
    "plt.show()\n"
   ]
  },
  {
   "cell_type": "code",
   "execution_count": null,
   "id": "35644ea0",
   "metadata": {},
   "outputs": [],
   "source": [
    "\n",
    "# Histograms for numerical features\n",
    "df[numerical_cols].hist(bins=20, figsize=(15,12), color='skyblue')\n",
    "plt.suptitle(\"Histograms of Numerical Features\")\n",
    "plt.show()\n"
   ]
  },
  {
   "cell_type": "code",
   "execution_count": null,
   "id": "400b16c3",
   "metadata": {},
   "outputs": [],
   "source": [
    "\n",
    "# Boxplots for numerical features vs Attrition\n",
    "for col in numerical_cols:\n",
    "    if col != 'EmployeeNumber':  # exclude ID column\n",
    "        sns.boxplot(x='Attrition', y=col, data=df)\n",
    "        plt.title(f'{col} vs Attrition')\n",
    "        plt.show()\n"
   ]
  },
  {
   "cell_type": "code",
   "execution_count": null,
   "id": "9d8fb2f5",
   "metadata": {},
   "outputs": [],
   "source": [
    "\n",
    "# Countplots for categorical features vs Attrition\n",
    "for col in categorical_cols:\n",
    "    if col != 'Attrition':\n",
    "        sns.countplot(x=col, hue='Attrition', data=df)\n",
    "        plt.title(f'{col} vs Attrition')\n",
    "        plt.xticks(rotation=45)\n",
    "        plt.show()\n"
   ]
  },
  {
   "cell_type": "code",
   "execution_count": null,
   "id": "22bcc11e",
   "metadata": {},
   "outputs": [],
   "source": [
    "\n",
    "# Correlation heatmap for numerical features\n",
    "corr = df[numerical_cols].corr()\n",
    "plt.figure(figsize=(12,10))\n",
    "sns.heatmap(corr, annot=True, fmt=\".2f\", cmap=\"coolwarm\")\n",
    "plt.title(\"Correlation Heatmap\")\n",
    "plt.show()\n"
   ]
  }
 ],
 "metadata": {
  "language_info": {
   "name": "python"
  }
 },
 "nbformat": 4,
 "nbformat_minor": 5
}
