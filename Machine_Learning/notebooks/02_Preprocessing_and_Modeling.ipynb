{
 "cells": [
  {
   "cell_type": "code",
   "execution_count": 3,
   "id": "1f69b038",
   "metadata": {},
   "outputs": [],
   "source": [
    "# 1. Import libraries\n",
    "import pandas as pd\n",
    "import numpy as np\n",
    "\n",
    "from sklearn.model_selection import train_test_split\n",
    "from sklearn.preprocessing import StandardScaler, OneHotEncoder\n",
    "from sklearn.compose import ColumnTransformer\n",
    "from sklearn.pipeline import Pipeline\n",
    "from sklearn.ensemble import RandomForestClassifier\n",
    "from sklearn.metrics import accuracy_score, confusion_matrix, classification_report\n",
    "import joblib\n"
   ]
  },
  {
   "cell_type": "code",
   "execution_count": 4,
   "id": "548245d5",
   "metadata": {},
   "outputs": [],
   "source": [
    "\n",
    "# 2. Load cleaned dataset\n",
    "data = pd.read_csv(r\"C:\\Users\\0911d\\Desktop\\Human-Resources\\Human-Resources\\Machine_Learning\\data\\HR-Employee-Attrition_cleaned.csv\")\n",
    "\n"
   ]
  },
  {
   "cell_type": "code",
   "execution_count": 5,
   "id": "7af0d4c4",
   "metadata": {},
   "outputs": [
    {
     "name": "stdout",
     "output_type": "stream",
     "text": [
      "   Age Attrition     BusinessTravel  DailyRate              Department  \\\n",
      "0   41       Yes      Travel_Rarely       1102                   Sales   \n",
      "1   49        No  Travel_Frequently        279  Research & Development   \n",
      "2   37       Yes      Travel_Rarely       1373  Research & Development   \n",
      "3   33        No  Travel_Frequently       1392  Research & Development   \n",
      "4   27        No      Travel_Rarely        591  Research & Development   \n",
      "\n",
      "   DistanceFromHome  Education EducationField  EmployeeNumber  \\\n",
      "0                 1          2  Life Sciences               1   \n",
      "1                 8          1  Life Sciences               2   \n",
      "2                 2          2          Other               4   \n",
      "3                 3          4  Life Sciences               5   \n",
      "4                 2          1        Medical               7   \n",
      "\n",
      "   EnvironmentSatisfaction  ... PerformanceRating  RelationshipSatisfaction  \\\n",
      "0                        2  ...                 3                         1   \n",
      "1                        3  ...                 4                         4   \n",
      "2                        4  ...                 3                         2   \n",
      "3                        4  ...                 3                         3   \n",
      "4                        1  ...                 3                         4   \n",
      "\n",
      "   StockOptionLevel  TotalWorkingYears TrainingTimesLastYear  WorkLifeBalance  \\\n",
      "0                 0                  8                     0                1   \n",
      "1                 1                 10                     3                3   \n",
      "2                 0                  7                     3                3   \n",
      "3                 0                  8                     3                3   \n",
      "4                 1                  6                     3                3   \n",
      "\n",
      "  YearsAtCompany  YearsInCurrentRole  YearsSinceLastPromotion  \\\n",
      "0              6                   4                        0   \n",
      "1             10                   7                        1   \n",
      "2              0                   0                        0   \n",
      "3              8                   7                        3   \n",
      "4              2                   2                        2   \n",
      "\n",
      "   YearsWithCurrManager  \n",
      "0                     5  \n",
      "1                     7  \n",
      "2                     0  \n",
      "3                     0  \n",
      "4                     2  \n",
      "\n",
      "[5 rows x 32 columns]\n",
      "<class 'pandas.core.frame.DataFrame'>\n",
      "RangeIndex: 1470 entries, 0 to 1469\n",
      "Data columns (total 32 columns):\n",
      " #   Column                    Non-Null Count  Dtype \n",
      "---  ------                    --------------  ----- \n",
      " 0   Age                       1470 non-null   int64 \n",
      " 1   Attrition                 1470 non-null   object\n",
      " 2   BusinessTravel            1470 non-null   object\n",
      " 3   DailyRate                 1470 non-null   int64 \n",
      " 4   Department                1470 non-null   object\n",
      " 5   DistanceFromHome          1470 non-null   int64 \n",
      " 6   Education                 1470 non-null   int64 \n",
      " 7   EducationField            1470 non-null   object\n",
      " 8   EmployeeNumber            1470 non-null   int64 \n",
      " 9   EnvironmentSatisfaction   1470 non-null   int64 \n",
      " 10  Gender                    1470 non-null   object\n",
      " 11  HourlyRate                1470 non-null   int64 \n",
      " 12  JobInvolvement            1470 non-null   int64 \n",
      " 13  JobLevel                  1470 non-null   int64 \n",
      " 14  JobRole                   1470 non-null   object\n",
      " 15  JobSatisfaction           1470 non-null   int64 \n",
      " 16  MaritalStatus             1470 non-null   object\n",
      " 17  MonthlyIncome             1470 non-null   int64 \n",
      " 18  MonthlyRate               1470 non-null   int64 \n",
      " 19  NumCompaniesWorked        1470 non-null   int64 \n",
      " 20  OverTime                  1470 non-null   object\n",
      " 21  PercentSalaryHike         1470 non-null   int64 \n",
      " 22  PerformanceRating         1470 non-null   int64 \n",
      " 23  RelationshipSatisfaction  1470 non-null   int64 \n",
      " 24  StockOptionLevel          1470 non-null   int64 \n",
      " 25  TotalWorkingYears         1470 non-null   int64 \n",
      " 26  TrainingTimesLastYear     1470 non-null   int64 \n",
      " 27  WorkLifeBalance           1470 non-null   int64 \n",
      " 28  YearsAtCompany            1470 non-null   int64 \n",
      " 29  YearsInCurrentRole        1470 non-null   int64 \n",
      " 30  YearsSinceLastPromotion   1470 non-null   int64 \n",
      " 31  YearsWithCurrManager      1470 non-null   int64 \n",
      "dtypes: int64(24), object(8)\n",
      "memory usage: 367.6+ KB\n",
      "None\n",
      "Attrition\n",
      "No     1233\n",
      "Yes     237\n",
      "Name: count, dtype: int64\n"
     ]
    }
   ],
   "source": [
    "\n",
    "# 3. Quick check\n",
    "print(data.head())\n",
    "print(data.info())\n",
    "print(data['Attrition'].value_counts())\n"
   ]
  },
  {
   "cell_type": "code",
   "execution_count": 6,
   "id": "dcc39c9d",
   "metadata": {},
   "outputs": [],
   "source": [
    "\n",
    "# 4. Define features and target\n",
    "X = data.drop('Attrition', axis=1)\n",
    "y = data['Attrition'].apply(lambda x: 1 if x == 'Yes' else 0)  # Encode target\n"
   ]
  },
  {
   "cell_type": "code",
   "execution_count": 7,
   "id": "74a6be9d",
   "metadata": {},
   "outputs": [
    {
     "name": "stdout",
     "output_type": "stream",
     "text": [
      "Categorical columns: ['BusinessTravel', 'Department', 'EducationField', 'Gender', 'JobRole', 'MaritalStatus', 'OverTime']\n",
      "Numerical columns: ['Age', 'DailyRate', 'DistanceFromHome', 'Education', 'EmployeeNumber', 'EnvironmentSatisfaction', 'HourlyRate', 'JobInvolvement', 'JobLevel', 'JobSatisfaction', 'MonthlyIncome', 'MonthlyRate', 'NumCompaniesWorked', 'PercentSalaryHike', 'PerformanceRating', 'RelationshipSatisfaction', 'StockOptionLevel', 'TotalWorkingYears', 'TrainingTimesLastYear', 'WorkLifeBalance', 'YearsAtCompany', 'YearsInCurrentRole', 'YearsSinceLastPromotion', 'YearsWithCurrManager']\n"
     ]
    }
   ],
   "source": [
    "\n",
    "# 5. Identify categorical and numerical columns\n",
    "categorical_cols = X.select_dtypes(include=['object']).columns.tolist()\n",
    "numerical_cols = X.select_dtypes(include=['int64', 'float64']).columns.tolist()\n",
    "\n",
    "print(\"Categorical columns:\", categorical_cols)\n",
    "print(\"Numerical columns:\", numerical_cols)\n"
   ]
  },
  {
   "cell_type": "code",
   "execution_count": 8,
   "id": "e5317d2b",
   "metadata": {},
   "outputs": [],
   "source": [
    "\n",
    "# 6. Preprocessing pipeline\n",
    "numerical_pipeline = Pipeline([\n",
    "    ('scaler', StandardScaler())\n",
    "])\n",
    "\n",
    "categorical_pipeline = Pipeline([\n",
    "    ('onehot', OneHotEncoder(drop='first'))\n",
    "])\n",
    "\n",
    "preprocessor = ColumnTransformer([\n",
    "    ('num', numerical_pipeline, numerical_cols),\n",
    "    ('cat', categorical_pipeline, categorical_cols)\n",
    "])\n"
   ]
  },
  {
   "cell_type": "code",
   "execution_count": 9,
   "id": "0d7fd204",
   "metadata": {},
   "outputs": [],
   "source": [
    "\n",
    "# 7. Split data into training and test sets\n",
    "X_train, X_test, y_train, y_test = train_test_split(\n",
    "    X, y, test_size=0.2, random_state=42, stratify=y\n",
    ")\n"
   ]
  },
  {
   "cell_type": "code",
   "execution_count": 10,
   "id": "7bb2f4d4",
   "metadata": {},
   "outputs": [],
   "source": [
    "\n",
    "# 8. Create full pipeline with classifier\n",
    "clf_pipeline = Pipeline([\n",
    "    ('preprocessor', preprocessor),\n",
    "    ('classifier', RandomForestClassifier(n_estimators=100, random_state=42))\n",
    "])\n"
   ]
  },
  {
   "cell_type": "code",
   "execution_count": 11,
   "id": "196c0aa8",
   "metadata": {},
   "outputs": [
    {
     "data": {
      "text/html": [
       "<style>#sk-container-id-1 {color: black;}#sk-container-id-1 pre{padding: 0;}#sk-container-id-1 div.sk-toggleable {background-color: white;}#sk-container-id-1 label.sk-toggleable__label {cursor: pointer;display: block;width: 100%;margin-bottom: 0;padding: 0.3em;box-sizing: border-box;text-align: center;}#sk-container-id-1 label.sk-toggleable__label-arrow:before {content: \"▸\";float: left;margin-right: 0.25em;color: #696969;}#sk-container-id-1 label.sk-toggleable__label-arrow:hover:before {color: black;}#sk-container-id-1 div.sk-estimator:hover label.sk-toggleable__label-arrow:before {color: black;}#sk-container-id-1 div.sk-toggleable__content {max-height: 0;max-width: 0;overflow: hidden;text-align: left;background-color: #f0f8ff;}#sk-container-id-1 div.sk-toggleable__content pre {margin: 0.2em;color: black;border-radius: 0.25em;background-color: #f0f8ff;}#sk-container-id-1 input.sk-toggleable__control:checked~div.sk-toggleable__content {max-height: 200px;max-width: 100%;overflow: auto;}#sk-container-id-1 input.sk-toggleable__control:checked~label.sk-toggleable__label-arrow:before {content: \"▾\";}#sk-container-id-1 div.sk-estimator input.sk-toggleable__control:checked~label.sk-toggleable__label {background-color: #d4ebff;}#sk-container-id-1 div.sk-label input.sk-toggleable__control:checked~label.sk-toggleable__label {background-color: #d4ebff;}#sk-container-id-1 input.sk-hidden--visually {border: 0;clip: rect(1px 1px 1px 1px);clip: rect(1px, 1px, 1px, 1px);height: 1px;margin: -1px;overflow: hidden;padding: 0;position: absolute;width: 1px;}#sk-container-id-1 div.sk-estimator {font-family: monospace;background-color: #f0f8ff;border: 1px dotted black;border-radius: 0.25em;box-sizing: border-box;margin-bottom: 0.5em;}#sk-container-id-1 div.sk-estimator:hover {background-color: #d4ebff;}#sk-container-id-1 div.sk-parallel-item::after {content: \"\";width: 100%;border-bottom: 1px solid gray;flex-grow: 1;}#sk-container-id-1 div.sk-label:hover label.sk-toggleable__label {background-color: #d4ebff;}#sk-container-id-1 div.sk-serial::before {content: \"\";position: absolute;border-left: 1px solid gray;box-sizing: border-box;top: 0;bottom: 0;left: 50%;z-index: 0;}#sk-container-id-1 div.sk-serial {display: flex;flex-direction: column;align-items: center;background-color: white;padding-right: 0.2em;padding-left: 0.2em;position: relative;}#sk-container-id-1 div.sk-item {position: relative;z-index: 1;}#sk-container-id-1 div.sk-parallel {display: flex;align-items: stretch;justify-content: center;background-color: white;position: relative;}#sk-container-id-1 div.sk-item::before, #sk-container-id-1 div.sk-parallel-item::before {content: \"\";position: absolute;border-left: 1px solid gray;box-sizing: border-box;top: 0;bottom: 0;left: 50%;z-index: -1;}#sk-container-id-1 div.sk-parallel-item {display: flex;flex-direction: column;z-index: 1;position: relative;background-color: white;}#sk-container-id-1 div.sk-parallel-item:first-child::after {align-self: flex-end;width: 50%;}#sk-container-id-1 div.sk-parallel-item:last-child::after {align-self: flex-start;width: 50%;}#sk-container-id-1 div.sk-parallel-item:only-child::after {width: 0;}#sk-container-id-1 div.sk-dashed-wrapped {border: 1px dashed gray;margin: 0 0.4em 0.5em 0.4em;box-sizing: border-box;padding-bottom: 0.4em;background-color: white;}#sk-container-id-1 div.sk-label label {font-family: monospace;font-weight: bold;display: inline-block;line-height: 1.2em;}#sk-container-id-1 div.sk-label-container {text-align: center;}#sk-container-id-1 div.sk-container {/* jupyter's `normalize.less` sets `[hidden] { display: none; }` but bootstrap.min.css set `[hidden] { display: none !important; }` so we also need the `!important` here to be able to override the default hidden behavior on the sphinx rendered scikit-learn.org. See: https://github.com/scikit-learn/scikit-learn/issues/21755 */display: inline-block !important;position: relative;}#sk-container-id-1 div.sk-text-repr-fallback {display: none;}</style><div id=\"sk-container-id-1\" class=\"sk-top-container\"><div class=\"sk-text-repr-fallback\"><pre>Pipeline(steps=[(&#x27;preprocessor&#x27;,\n",
       "                 ColumnTransformer(transformers=[(&#x27;num&#x27;,\n",
       "                                                  Pipeline(steps=[(&#x27;scaler&#x27;,\n",
       "                                                                   StandardScaler())]),\n",
       "                                                  [&#x27;Age&#x27;, &#x27;DailyRate&#x27;,\n",
       "                                                   &#x27;DistanceFromHome&#x27;,\n",
       "                                                   &#x27;Education&#x27;,\n",
       "                                                   &#x27;EmployeeNumber&#x27;,\n",
       "                                                   &#x27;EnvironmentSatisfaction&#x27;,\n",
       "                                                   &#x27;HourlyRate&#x27;,\n",
       "                                                   &#x27;JobInvolvement&#x27;, &#x27;JobLevel&#x27;,\n",
       "                                                   &#x27;JobSatisfaction&#x27;,\n",
       "                                                   &#x27;MonthlyIncome&#x27;,\n",
       "                                                   &#x27;MonthlyRate&#x27;,\n",
       "                                                   &#x27;NumCompaniesWorked&#x27;,\n",
       "                                                   &#x27;PercentSalaryHike&#x27;,\n",
       "                                                   &#x27;Performan...\n",
       "                                                   &#x27;TrainingTimesLastYear&#x27;,\n",
       "                                                   &#x27;WorkLifeBalance&#x27;,\n",
       "                                                   &#x27;YearsAtCompany&#x27;,\n",
       "                                                   &#x27;YearsInCurrentRole&#x27;,\n",
       "                                                   &#x27;YearsSinceLastPromotion&#x27;,\n",
       "                                                   &#x27;YearsWithCurrManager&#x27;]),\n",
       "                                                 (&#x27;cat&#x27;,\n",
       "                                                  Pipeline(steps=[(&#x27;onehot&#x27;,\n",
       "                                                                   OneHotEncoder(drop=&#x27;first&#x27;))]),\n",
       "                                                  [&#x27;BusinessTravel&#x27;,\n",
       "                                                   &#x27;Department&#x27;,\n",
       "                                                   &#x27;EducationField&#x27;, &#x27;Gender&#x27;,\n",
       "                                                   &#x27;JobRole&#x27;, &#x27;MaritalStatus&#x27;,\n",
       "                                                   &#x27;OverTime&#x27;])])),\n",
       "                (&#x27;classifier&#x27;, RandomForestClassifier(random_state=42))])</pre><b>In a Jupyter environment, please rerun this cell to show the HTML representation or trust the notebook. <br />On GitHub, the HTML representation is unable to render, please try loading this page with nbviewer.org.</b></div><div class=\"sk-container\" hidden><div class=\"sk-item sk-dashed-wrapped\"><div class=\"sk-label-container\"><div class=\"sk-label sk-toggleable\"><input class=\"sk-toggleable__control sk-hidden--visually\" id=\"sk-estimator-id-1\" type=\"checkbox\" ><label for=\"sk-estimator-id-1\" class=\"sk-toggleable__label sk-toggleable__label-arrow\">Pipeline</label><div class=\"sk-toggleable__content\"><pre>Pipeline(steps=[(&#x27;preprocessor&#x27;,\n",
       "                 ColumnTransformer(transformers=[(&#x27;num&#x27;,\n",
       "                                                  Pipeline(steps=[(&#x27;scaler&#x27;,\n",
       "                                                                   StandardScaler())]),\n",
       "                                                  [&#x27;Age&#x27;, &#x27;DailyRate&#x27;,\n",
       "                                                   &#x27;DistanceFromHome&#x27;,\n",
       "                                                   &#x27;Education&#x27;,\n",
       "                                                   &#x27;EmployeeNumber&#x27;,\n",
       "                                                   &#x27;EnvironmentSatisfaction&#x27;,\n",
       "                                                   &#x27;HourlyRate&#x27;,\n",
       "                                                   &#x27;JobInvolvement&#x27;, &#x27;JobLevel&#x27;,\n",
       "                                                   &#x27;JobSatisfaction&#x27;,\n",
       "                                                   &#x27;MonthlyIncome&#x27;,\n",
       "                                                   &#x27;MonthlyRate&#x27;,\n",
       "                                                   &#x27;NumCompaniesWorked&#x27;,\n",
       "                                                   &#x27;PercentSalaryHike&#x27;,\n",
       "                                                   &#x27;Performan...\n",
       "                                                   &#x27;TrainingTimesLastYear&#x27;,\n",
       "                                                   &#x27;WorkLifeBalance&#x27;,\n",
       "                                                   &#x27;YearsAtCompany&#x27;,\n",
       "                                                   &#x27;YearsInCurrentRole&#x27;,\n",
       "                                                   &#x27;YearsSinceLastPromotion&#x27;,\n",
       "                                                   &#x27;YearsWithCurrManager&#x27;]),\n",
       "                                                 (&#x27;cat&#x27;,\n",
       "                                                  Pipeline(steps=[(&#x27;onehot&#x27;,\n",
       "                                                                   OneHotEncoder(drop=&#x27;first&#x27;))]),\n",
       "                                                  [&#x27;BusinessTravel&#x27;,\n",
       "                                                   &#x27;Department&#x27;,\n",
       "                                                   &#x27;EducationField&#x27;, &#x27;Gender&#x27;,\n",
       "                                                   &#x27;JobRole&#x27;, &#x27;MaritalStatus&#x27;,\n",
       "                                                   &#x27;OverTime&#x27;])])),\n",
       "                (&#x27;classifier&#x27;, RandomForestClassifier(random_state=42))])</pre></div></div></div><div class=\"sk-serial\"><div class=\"sk-item sk-dashed-wrapped\"><div class=\"sk-label-container\"><div class=\"sk-label sk-toggleable\"><input class=\"sk-toggleable__control sk-hidden--visually\" id=\"sk-estimator-id-2\" type=\"checkbox\" ><label for=\"sk-estimator-id-2\" class=\"sk-toggleable__label sk-toggleable__label-arrow\">preprocessor: ColumnTransformer</label><div class=\"sk-toggleable__content\"><pre>ColumnTransformer(transformers=[(&#x27;num&#x27;,\n",
       "                                 Pipeline(steps=[(&#x27;scaler&#x27;, StandardScaler())]),\n",
       "                                 [&#x27;Age&#x27;, &#x27;DailyRate&#x27;, &#x27;DistanceFromHome&#x27;,\n",
       "                                  &#x27;Education&#x27;, &#x27;EmployeeNumber&#x27;,\n",
       "                                  &#x27;EnvironmentSatisfaction&#x27;, &#x27;HourlyRate&#x27;,\n",
       "                                  &#x27;JobInvolvement&#x27;, &#x27;JobLevel&#x27;,\n",
       "                                  &#x27;JobSatisfaction&#x27;, &#x27;MonthlyIncome&#x27;,\n",
       "                                  &#x27;MonthlyRate&#x27;, &#x27;NumCompaniesWorked&#x27;,\n",
       "                                  &#x27;PercentSalaryHike&#x27;, &#x27;PerformanceRating&#x27;,\n",
       "                                  &#x27;RelationshipSatisfaction&#x27;,\n",
       "                                  &#x27;StockOptionLevel&#x27;, &#x27;TotalWorkingYears&#x27;,\n",
       "                                  &#x27;TrainingTimesLastYear&#x27;, &#x27;WorkLifeBalance&#x27;,\n",
       "                                  &#x27;YearsAtCompany&#x27;, &#x27;YearsInCurrentRole&#x27;,\n",
       "                                  &#x27;YearsSinceLastPromotion&#x27;,\n",
       "                                  &#x27;YearsWithCurrManager&#x27;]),\n",
       "                                (&#x27;cat&#x27;,\n",
       "                                 Pipeline(steps=[(&#x27;onehot&#x27;,\n",
       "                                                  OneHotEncoder(drop=&#x27;first&#x27;))]),\n",
       "                                 [&#x27;BusinessTravel&#x27;, &#x27;Department&#x27;,\n",
       "                                  &#x27;EducationField&#x27;, &#x27;Gender&#x27;, &#x27;JobRole&#x27;,\n",
       "                                  &#x27;MaritalStatus&#x27;, &#x27;OverTime&#x27;])])</pre></div></div></div><div class=\"sk-parallel\"><div class=\"sk-parallel-item\"><div class=\"sk-item\"><div class=\"sk-label-container\"><div class=\"sk-label sk-toggleable\"><input class=\"sk-toggleable__control sk-hidden--visually\" id=\"sk-estimator-id-3\" type=\"checkbox\" ><label for=\"sk-estimator-id-3\" class=\"sk-toggleable__label sk-toggleable__label-arrow\">num</label><div class=\"sk-toggleable__content\"><pre>[&#x27;Age&#x27;, &#x27;DailyRate&#x27;, &#x27;DistanceFromHome&#x27;, &#x27;Education&#x27;, &#x27;EmployeeNumber&#x27;, &#x27;EnvironmentSatisfaction&#x27;, &#x27;HourlyRate&#x27;, &#x27;JobInvolvement&#x27;, &#x27;JobLevel&#x27;, &#x27;JobSatisfaction&#x27;, &#x27;MonthlyIncome&#x27;, &#x27;MonthlyRate&#x27;, &#x27;NumCompaniesWorked&#x27;, &#x27;PercentSalaryHike&#x27;, &#x27;PerformanceRating&#x27;, &#x27;RelationshipSatisfaction&#x27;, &#x27;StockOptionLevel&#x27;, &#x27;TotalWorkingYears&#x27;, &#x27;TrainingTimesLastYear&#x27;, &#x27;WorkLifeBalance&#x27;, &#x27;YearsAtCompany&#x27;, &#x27;YearsInCurrentRole&#x27;, &#x27;YearsSinceLastPromotion&#x27;, &#x27;YearsWithCurrManager&#x27;]</pre></div></div></div><div class=\"sk-serial\"><div class=\"sk-item\"><div class=\"sk-serial\"><div class=\"sk-item\"><div class=\"sk-estimator sk-toggleable\"><input class=\"sk-toggleable__control sk-hidden--visually\" id=\"sk-estimator-id-4\" type=\"checkbox\" ><label for=\"sk-estimator-id-4\" class=\"sk-toggleable__label sk-toggleable__label-arrow\">StandardScaler</label><div class=\"sk-toggleable__content\"><pre>StandardScaler()</pre></div></div></div></div></div></div></div></div><div class=\"sk-parallel-item\"><div class=\"sk-item\"><div class=\"sk-label-container\"><div class=\"sk-label sk-toggleable\"><input class=\"sk-toggleable__control sk-hidden--visually\" id=\"sk-estimator-id-5\" type=\"checkbox\" ><label for=\"sk-estimator-id-5\" class=\"sk-toggleable__label sk-toggleable__label-arrow\">cat</label><div class=\"sk-toggleable__content\"><pre>[&#x27;BusinessTravel&#x27;, &#x27;Department&#x27;, &#x27;EducationField&#x27;, &#x27;Gender&#x27;, &#x27;JobRole&#x27;, &#x27;MaritalStatus&#x27;, &#x27;OverTime&#x27;]</pre></div></div></div><div class=\"sk-serial\"><div class=\"sk-item\"><div class=\"sk-serial\"><div class=\"sk-item\"><div class=\"sk-estimator sk-toggleable\"><input class=\"sk-toggleable__control sk-hidden--visually\" id=\"sk-estimator-id-6\" type=\"checkbox\" ><label for=\"sk-estimator-id-6\" class=\"sk-toggleable__label sk-toggleable__label-arrow\">OneHotEncoder</label><div class=\"sk-toggleable__content\"><pre>OneHotEncoder(drop=&#x27;first&#x27;)</pre></div></div></div></div></div></div></div></div></div></div><div class=\"sk-item\"><div class=\"sk-estimator sk-toggleable\"><input class=\"sk-toggleable__control sk-hidden--visually\" id=\"sk-estimator-id-7\" type=\"checkbox\" ><label for=\"sk-estimator-id-7\" class=\"sk-toggleable__label sk-toggleable__label-arrow\">RandomForestClassifier</label><div class=\"sk-toggleable__content\"><pre>RandomForestClassifier(random_state=42)</pre></div></div></div></div></div></div></div>"
      ],
      "text/plain": [
       "Pipeline(steps=[('preprocessor',\n",
       "                 ColumnTransformer(transformers=[('num',\n",
       "                                                  Pipeline(steps=[('scaler',\n",
       "                                                                   StandardScaler())]),\n",
       "                                                  ['Age', 'DailyRate',\n",
       "                                                   'DistanceFromHome',\n",
       "                                                   'Education',\n",
       "                                                   'EmployeeNumber',\n",
       "                                                   'EnvironmentSatisfaction',\n",
       "                                                   'HourlyRate',\n",
       "                                                   'JobInvolvement', 'JobLevel',\n",
       "                                                   'JobSatisfaction',\n",
       "                                                   'MonthlyIncome',\n",
       "                                                   'MonthlyRate',\n",
       "                                                   'NumCompaniesWorked',\n",
       "                                                   'PercentSalaryHike',\n",
       "                                                   'Performan...\n",
       "                                                   'TrainingTimesLastYear',\n",
       "                                                   'WorkLifeBalance',\n",
       "                                                   'YearsAtCompany',\n",
       "                                                   'YearsInCurrentRole',\n",
       "                                                   'YearsSinceLastPromotion',\n",
       "                                                   'YearsWithCurrManager']),\n",
       "                                                 ('cat',\n",
       "                                                  Pipeline(steps=[('onehot',\n",
       "                                                                   OneHotEncoder(drop='first'))]),\n",
       "                                                  ['BusinessTravel',\n",
       "                                                   'Department',\n",
       "                                                   'EducationField', 'Gender',\n",
       "                                                   'JobRole', 'MaritalStatus',\n",
       "                                                   'OverTime'])])),\n",
       "                ('classifier', RandomForestClassifier(random_state=42))])"
      ]
     },
     "execution_count": 11,
     "metadata": {},
     "output_type": "execute_result"
    }
   ],
   "source": [
    "\n",
    "# 9. Train model\n",
    "clf_pipeline.fit(X_train, y_train)\n"
   ]
  },
  {
   "cell_type": "code",
   "execution_count": 12,
   "id": "4a4a084b",
   "metadata": {},
   "outputs": [],
   "source": [
    "\n",
    "# 10. Make predictions\n",
    "y_pred = clf_pipeline.predict(X_test)\n"
   ]
  },
  {
   "cell_type": "code",
   "execution_count": 13,
   "id": "e3c11d45",
   "metadata": {},
   "outputs": [
    {
     "name": "stdout",
     "output_type": "stream",
     "text": [
      "Accuracy: 0.8367346938775511\n",
      "\n",
      "Classification Report:\n",
      "               precision    recall  f1-score   support\n",
      "\n",
      "           0       0.85      0.97      0.91       247\n",
      "           1       0.46      0.13      0.20        47\n",
      "\n",
      "    accuracy                           0.84       294\n",
      "   macro avg       0.66      0.55      0.55       294\n",
      "weighted avg       0.79      0.84      0.80       294\n",
      "\n",
      "\n",
      "Confusion Matrix:\n",
      " [[240   7]\n",
      " [ 41   6]]\n"
     ]
    }
   ],
   "source": [
    "\n",
    "# 11. Evaluate model\n",
    "print(\"Accuracy:\", accuracy_score(y_test, y_pred))\n",
    "print(\"\\nClassification Report:\\n\", classification_report(y_test, y_pred))\n",
    "print(\"\\nConfusion Matrix:\\n\", confusion_matrix(y_test, y_pred))\n"
   ]
  },
  {
   "cell_type": "code",
   "execution_count": 14,
   "id": "35421eca",
   "metadata": {},
   "outputs": [
    {
     "name": "stdout",
     "output_type": "stream",
     "text": [
      "Model saved successfully.\n"
     ]
    }
   ],
   "source": [
    "\n",
    "# 12. Save trained model\n",
    "joblib.dump(clf_pipeline, '../models/random_forest_hr_attrition.pkl')\n",
    "print(\"Model saved successfully.\")\n"
   ]
  }
 ],
 "metadata": {
  "kernelspec": {
   "display_name": "Python 3",
   "language": "python",
   "name": "python3"
  },
  "language_info": {
   "codemirror_mode": {
    "name": "ipython",
    "version": 3
   },
   "file_extension": ".py",
   "mimetype": "text/x-python",
   "name": "python",
   "nbconvert_exporter": "python",
   "pygments_lexer": "ipython3",
   "version": "3.11.9"
  }
 },
 "nbformat": 4,
 "nbformat_minor": 5
}
